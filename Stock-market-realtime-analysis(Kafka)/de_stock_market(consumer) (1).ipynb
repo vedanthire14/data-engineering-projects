{
  "nbformat": 4,
  "nbformat_minor": 0,
  "metadata": {
    "colab": {
      "provenance": []
    },
    "kernelspec": {
      "name": "python3",
      "display_name": "Python 3"
    },
    "language_info": {
      "name": "python"
    }
  },
  "cells": [
    {
      "cell_type": "code",
      "execution_count": null,
      "metadata": {
        "colab": {
          "base_uri": "https://localhost:8080/"
        },
        "id": "mr17GuE9f3FS",
        "outputId": "e1f259fb-607e-4716-a30a-92daa3dc619f"
      },
      "outputs": [
        {
          "output_type": "stream",
          "name": "stdout",
          "text": [
            "Collecting kafka-python\n",
            "  Downloading kafka_python-2.0.2-py2.py3-none-any.whl (246 kB)\n",
            "\u001b[?25l     \u001b[90m━━━━━━━━━━━━━━━━━━━━━━━━━━━━━━━━━━━━━━━━\u001b[0m \u001b[32m0.0/246.5 kB\u001b[0m \u001b[31m?\u001b[0m eta \u001b[36m-:--:--\u001b[0m\r\u001b[2K     \u001b[91m━━━━━━━━━━━━━\u001b[0m\u001b[90m╺\u001b[0m\u001b[90m━━━━━━━━━━━━━━━━━━━━━━━━━━\u001b[0m \u001b[32m81.9/246.5 kB\u001b[0m \u001b[31m2.4 MB/s\u001b[0m eta \u001b[36m0:00:01\u001b[0m\r\u001b[2K     \u001b[90m━━━━━━━━━━━━━━━━━━━━━━━━━━━━━━━━━━━━━━━━\u001b[0m \u001b[32m246.5/246.5 kB\u001b[0m \u001b[31m3.9 MB/s\u001b[0m eta \u001b[36m0:00:00\u001b[0m\n",
            "\u001b[?25hInstalling collected packages: kafka-python\n",
            "Successfully installed kafka-python-2.0.2\n"
          ]
        }
      ],
      "source": [
        "!pip install kafka-python"
      ]
    },
    {
      "cell_type": "code",
      "source": [
        "!pip install s3fs"
      ],
      "metadata": {
        "id": "iKm0LMwjgP3B"
      },
      "execution_count": null,
      "outputs": []
    },
    {
      "cell_type": "code",
      "source": [
        "!pip install boto3"
      ],
      "metadata": {
        "colab": {
          "base_uri": "https://localhost:8080/",
          "height": 478
        },
        "id": "Fy3FA9FVuO0P",
        "outputId": "54baa258-6580-4bba-cbb5-2fb052754098"
      },
      "execution_count": null,
      "outputs": [
        {
          "output_type": "stream",
          "name": "stdout",
          "text": [
            "Collecting boto3\n",
            "  Downloading boto3-1.34.95-py3-none-any.whl (139 kB)\n",
            "\u001b[2K     \u001b[90m━━━━━━━━━━━━━━━━━━━━━━━━━━━━━━━━━━━━━━━━\u001b[0m \u001b[32m139.3/139.3 kB\u001b[0m \u001b[31m3.4 MB/s\u001b[0m eta \u001b[36m0:00:00\u001b[0m\n",
            "\u001b[?25hCollecting botocore<1.35.0,>=1.34.95 (from boto3)\n",
            "  Downloading botocore-1.34.95-py3-none-any.whl (12.2 MB)\n",
            "\u001b[2K     \u001b[90m━━━━━━━━━━━━━━━━━━━━━━━━━━━━━━━━━━━━━━━━\u001b[0m \u001b[32m12.2/12.2 MB\u001b[0m \u001b[31m45.9 MB/s\u001b[0m eta \u001b[36m0:00:00\u001b[0m\n",
            "\u001b[?25hRequirement already satisfied: jmespath<2.0.0,>=0.7.1 in /usr/local/lib/python3.10/dist-packages (from boto3) (1.0.1)\n",
            "Collecting s3transfer<0.11.0,>=0.10.0 (from boto3)\n",
            "  Downloading s3transfer-0.10.1-py3-none-any.whl (82 kB)\n",
            "\u001b[2K     \u001b[90m━━━━━━━━━━━━━━━━━━━━━━━━━━━━━━━━━━━━━━━━\u001b[0m \u001b[32m82.2/82.2 kB\u001b[0m \u001b[31m7.2 MB/s\u001b[0m eta \u001b[36m0:00:00\u001b[0m\n",
            "\u001b[?25hRequirement already satisfied: python-dateutil<3.0.0,>=2.1 in /usr/local/lib/python3.10/dist-packages (from botocore<1.35.0,>=1.34.95->boto3) (2.8.2)\n",
            "Requirement already satisfied: urllib3!=2.2.0,<3,>=1.25.4 in /usr/local/lib/python3.10/dist-packages (from botocore<1.35.0,>=1.34.95->boto3) (2.0.7)\n",
            "Requirement already satisfied: six>=1.5 in /usr/local/lib/python3.10/dist-packages (from python-dateutil<3.0.0,>=2.1->botocore<1.35.0,>=1.34.95->boto3) (1.16.0)\n",
            "Installing collected packages: botocore, s3transfer, boto3\n",
            "  Attempting uninstall: botocore\n",
            "    Found existing installation: botocore 1.34.69\n",
            "    Uninstalling botocore-1.34.69:\n",
            "      Successfully uninstalled botocore-1.34.69\n",
            "\u001b[31mERROR: pip's dependency resolver does not currently take into account all the packages that are installed. This behaviour is the source of the following dependency conflicts.\n",
            "aiobotocore 2.12.3 requires botocore<1.34.70,>=1.34.41, but you have botocore 1.34.95 which is incompatible.\u001b[0m\u001b[31m\n",
            "\u001b[0mSuccessfully installed boto3-1.34.95 botocore-1.34.95 s3transfer-0.10.1\n"
          ]
        },
        {
          "output_type": "display_data",
          "data": {
            "application/vnd.colab-display-data+json": {
              "pip_warning": {
                "packages": [
                  "botocore"
                ]
              },
              "id": "3fc15ef927bd4d4597f96b353710e2c5"
            }
          },
          "metadata": {}
        }
      ]
    },
    {
      "cell_type": "code",
      "source": [
        "from kafka import KafkaConsumer\n",
        "from time import sleep\n",
        "from json import dumps,loads\n",
        "import json\n",
        "import boto3\n",
        "from s3fs import S3FileSystem"
      ],
      "metadata": {
        "id": "-wVk5N-3f55h"
      },
      "execution_count": null,
      "outputs": []
    },
    {
      "cell_type": "code",
      "source": [
        "consumer = KafkaConsumer(\n",
        "    'demo_testing2',\n",
        "     bootstrap_servers=['65.0.105.169:9092'], #add your IP here\n",
        "    value_deserializer=lambda x: loads(x.decode('utf-8')))"
      ],
      "metadata": {
        "colab": {
          "base_uri": "https://localhost:8080/"
        },
        "id": "_bnNx77Df53N",
        "outputId": "0c014bc3-4495-45a6-e79e-ac164f411398"
      },
      "execution_count": null,
      "outputs": [
        {
          "output_type": "stream",
          "name": "stderr",
          "text": [
            "WARNING:kafka.coordinator.consumer:group_id is None: disabling auto-commit.\n"
          ]
        }
      ]
    },
    {
      "cell_type": "code",
      "source": [
        "for c in consumer:\n",
        "  print(c.value)"
      ],
      "metadata": {
        "id": "3F0z431phDlI"
      },
      "execution_count": null,
      "outputs": []
    },
    {
      "cell_type": "code",
      "source": [
        "# s3 = S3FileSystem()\n",
        "# import boto3\n",
        "s3 = boto3.client('s3',\n",
        "         aws_access_key_id='',\n",
        "         aws_secret_access_key= '')"
      ],
      "metadata": {
        "id": "frAvsa6Df51I"
      },
      "execution_count": null,
      "outputs": []
    },
    {
      "cell_type": "code",
      "source": [
        "import boto3\n",
        "import json\n",
        "\n",
        "# Replace 'your_access_key_id' and 'your_secret_access_key' with your actual AWS credentials\n",
        "aws_access_key_id = ''\n",
        "aws_secret_access_key = ''\n",
        "\n",
        "# Create an S3 client\n",
        "s3_client = boto3.client('s3', aws_access_key_id=aws_access_key_id, aws_secret_access_key=aws_secret_access_key)\n",
        "\n",
        "bucket_name = 'kafka-vedant-hire'  # Replace 'your-bucket-name' with your actual bucket name\n",
        "\n",
        "for count, i in enumerate(consumer):\n",
        "    # Construct the S3 object key\n",
        "    s3_object_key = \"stock_market_{}.json\".format(count)\n",
        "\n",
        "    # Convert the data to JSON format\n",
        "    json_data = json.dumps(i.value)\n",
        "\n",
        "    # Upload the JSON data to S3\n",
        "    response = s3_client.put_object(\n",
        "        Bucket=bucket_name,\n",
        "        Key=s3_object_key,\n",
        "        Body=json_data\n",
        "    )\n",
        "\n",
        "    # Check the response if needed\n",
        "    print(\"Uploaded {} to S3 bucket\".format(s3_object_key))\n"
      ],
      "metadata": {
        "colab": {
          "base_uri": "https://localhost:8080/",
          "height": 1000
        },
        "id": "z8zXIWwLf5wa",
        "outputId": "5b84dba2-3ff2-4e97-8fa2-485a83052bee"
      },
      "execution_count": null,
      "outputs": [
        {
          "output_type": "stream",
          "name": "stdout",
          "text": [
            "Uploaded stock_market_0.json to S3 bucket\n",
            "Uploaded stock_market_1.json to S3 bucket\n",
            "Uploaded stock_market_2.json to S3 bucket\n",
            "Uploaded stock_market_3.json to S3 bucket\n",
            "Uploaded stock_market_4.json to S3 bucket\n",
            "Uploaded stock_market_5.json to S3 bucket\n",
            "Uploaded stock_market_6.json to S3 bucket\n",
            "Uploaded stock_market_7.json to S3 bucket\n",
            "Uploaded stock_market_8.json to S3 bucket\n",
            "Uploaded stock_market_9.json to S3 bucket\n",
            "Uploaded stock_market_10.json to S3 bucket\n",
            "Uploaded stock_market_11.json to S3 bucket\n",
            "Uploaded stock_market_12.json to S3 bucket\n",
            "Uploaded stock_market_13.json to S3 bucket\n",
            "Uploaded stock_market_14.json to S3 bucket\n",
            "Uploaded stock_market_15.json to S3 bucket\n",
            "Uploaded stock_market_16.json to S3 bucket\n",
            "Uploaded stock_market_17.json to S3 bucket\n",
            "Uploaded stock_market_18.json to S3 bucket\n",
            "Uploaded stock_market_19.json to S3 bucket\n",
            "Uploaded stock_market_20.json to S3 bucket\n",
            "Uploaded stock_market_21.json to S3 bucket\n",
            "Uploaded stock_market_22.json to S3 bucket\n",
            "Uploaded stock_market_23.json to S3 bucket\n",
            "Uploaded stock_market_24.json to S3 bucket\n",
            "Uploaded stock_market_25.json to S3 bucket\n",
            "Uploaded stock_market_26.json to S3 bucket\n",
            "Uploaded stock_market_27.json to S3 bucket\n",
            "Uploaded stock_market_28.json to S3 bucket\n",
            "Uploaded stock_market_29.json to S3 bucket\n",
            "Uploaded stock_market_30.json to S3 bucket\n",
            "Uploaded stock_market_31.json to S3 bucket\n",
            "Uploaded stock_market_32.json to S3 bucket\n",
            "Uploaded stock_market_33.json to S3 bucket\n",
            "Uploaded stock_market_34.json to S3 bucket\n",
            "Uploaded stock_market_35.json to S3 bucket\n",
            "Uploaded stock_market_36.json to S3 bucket\n",
            "Uploaded stock_market_37.json to S3 bucket\n",
            "Uploaded stock_market_38.json to S3 bucket\n",
            "Uploaded stock_market_39.json to S3 bucket\n",
            "Uploaded stock_market_40.json to S3 bucket\n",
            "Uploaded stock_market_41.json to S3 bucket\n",
            "Uploaded stock_market_42.json to S3 bucket\n",
            "Uploaded stock_market_43.json to S3 bucket\n",
            "Uploaded stock_market_44.json to S3 bucket\n",
            "Uploaded stock_market_45.json to S3 bucket\n",
            "Uploaded stock_market_46.json to S3 bucket\n",
            "Uploaded stock_market_47.json to S3 bucket\n",
            "Uploaded stock_market_48.json to S3 bucket\n",
            "Uploaded stock_market_49.json to S3 bucket\n",
            "Uploaded stock_market_50.json to S3 bucket\n",
            "Uploaded stock_market_51.json to S3 bucket\n",
            "Uploaded stock_market_52.json to S3 bucket\n",
            "Uploaded stock_market_53.json to S3 bucket\n",
            "Uploaded stock_market_54.json to S3 bucket\n",
            "Uploaded stock_market_55.json to S3 bucket\n",
            "Uploaded stock_market_56.json to S3 bucket\n",
            "Uploaded stock_market_57.json to S3 bucket\n",
            "Uploaded stock_market_58.json to S3 bucket\n",
            "Uploaded stock_market_59.json to S3 bucket\n",
            "Uploaded stock_market_60.json to S3 bucket\n",
            "Uploaded stock_market_61.json to S3 bucket\n",
            "Uploaded stock_market_62.json to S3 bucket\n",
            "Uploaded stock_market_63.json to S3 bucket\n",
            "Uploaded stock_market_64.json to S3 bucket\n",
            "Uploaded stock_market_65.json to S3 bucket\n",
            "Uploaded stock_market_66.json to S3 bucket\n",
            "Uploaded stock_market_67.json to S3 bucket\n",
            "Uploaded stock_market_68.json to S3 bucket\n",
            "Uploaded stock_market_69.json to S3 bucket\n",
            "Uploaded stock_market_70.json to S3 bucket\n",
            "Uploaded stock_market_71.json to S3 bucket\n",
            "Uploaded stock_market_72.json to S3 bucket\n",
            "Uploaded stock_market_73.json to S3 bucket\n",
            "Uploaded stock_market_74.json to S3 bucket\n",
            "Uploaded stock_market_75.json to S3 bucket\n",
            "Uploaded stock_market_76.json to S3 bucket\n",
            "Uploaded stock_market_77.json to S3 bucket\n",
            "Uploaded stock_market_78.json to S3 bucket\n",
            "Uploaded stock_market_79.json to S3 bucket\n",
            "Uploaded stock_market_80.json to S3 bucket\n",
            "Uploaded stock_market_81.json to S3 bucket\n",
            "Uploaded stock_market_82.json to S3 bucket\n",
            "Uploaded stock_market_83.json to S3 bucket\n",
            "Uploaded stock_market_84.json to S3 bucket\n",
            "Uploaded stock_market_85.json to S3 bucket\n",
            "Uploaded stock_market_86.json to S3 bucket\n",
            "Uploaded stock_market_87.json to S3 bucket\n",
            "Uploaded stock_market_88.json to S3 bucket\n",
            "Uploaded stock_market_89.json to S3 bucket\n",
            "Uploaded stock_market_90.json to S3 bucket\n",
            "Uploaded stock_market_91.json to S3 bucket\n",
            "Uploaded stock_market_92.json to S3 bucket\n",
            "Uploaded stock_market_93.json to S3 bucket\n",
            "Uploaded stock_market_94.json to S3 bucket\n",
            "Uploaded stock_market_95.json to S3 bucket\n",
            "Uploaded stock_market_96.json to S3 bucket\n",
            "Uploaded stock_market_97.json to S3 bucket\n",
            "Uploaded stock_market_98.json to S3 bucket\n",
            "Uploaded stock_market_99.json to S3 bucket\n",
            "Uploaded stock_market_100.json to S3 bucket\n",
            "Uploaded stock_market_101.json to S3 bucket\n",
            "Uploaded stock_market_102.json to S3 bucket\n",
            "Uploaded stock_market_103.json to S3 bucket\n",
            "Uploaded stock_market_104.json to S3 bucket\n",
            "Uploaded stock_market_105.json to S3 bucket\n",
            "Uploaded stock_market_106.json to S3 bucket\n",
            "Uploaded stock_market_107.json to S3 bucket\n",
            "Uploaded stock_market_108.json to S3 bucket\n",
            "Uploaded stock_market_109.json to S3 bucket\n",
            "Uploaded stock_market_110.json to S3 bucket\n",
            "Uploaded stock_market_111.json to S3 bucket\n",
            "Uploaded stock_market_112.json to S3 bucket\n",
            "Uploaded stock_market_113.json to S3 bucket\n",
            "Uploaded stock_market_114.json to S3 bucket\n",
            "Uploaded stock_market_115.json to S3 bucket\n",
            "Uploaded stock_market_116.json to S3 bucket\n",
            "Uploaded stock_market_117.json to S3 bucket\n",
            "Uploaded stock_market_118.json to S3 bucket\n",
            "Uploaded stock_market_119.json to S3 bucket\n",
            "Uploaded stock_market_120.json to S3 bucket\n",
            "Uploaded stock_market_121.json to S3 bucket\n",
            "Uploaded stock_market_122.json to S3 bucket\n",
            "Uploaded stock_market_123.json to S3 bucket\n",
            "Uploaded stock_market_124.json to S3 bucket\n",
            "Uploaded stock_market_125.json to S3 bucket\n",
            "Uploaded stock_market_126.json to S3 bucket\n",
            "Uploaded stock_market_127.json to S3 bucket\n",
            "Uploaded stock_market_128.json to S3 bucket\n",
            "Uploaded stock_market_129.json to S3 bucket\n",
            "Uploaded stock_market_130.json to S3 bucket\n",
            "Uploaded stock_market_131.json to S3 bucket\n",
            "Uploaded stock_market_132.json to S3 bucket\n",
            "Uploaded stock_market_133.json to S3 bucket\n",
            "Uploaded stock_market_134.json to S3 bucket\n",
            "Uploaded stock_market_135.json to S3 bucket\n",
            "Uploaded stock_market_136.json to S3 bucket\n",
            "Uploaded stock_market_137.json to S3 bucket\n",
            "Uploaded stock_market_138.json to S3 bucket\n",
            "Uploaded stock_market_139.json to S3 bucket\n",
            "Uploaded stock_market_140.json to S3 bucket\n",
            "Uploaded stock_market_141.json to S3 bucket\n",
            "Uploaded stock_market_142.json to S3 bucket\n",
            "Uploaded stock_market_143.json to S3 bucket\n",
            "Uploaded stock_market_144.json to S3 bucket\n",
            "Uploaded stock_market_145.json to S3 bucket\n",
            "Uploaded stock_market_146.json to S3 bucket\n",
            "Uploaded stock_market_147.json to S3 bucket\n",
            "Uploaded stock_market_148.json to S3 bucket\n",
            "Uploaded stock_market_149.json to S3 bucket\n",
            "Uploaded stock_market_150.json to S3 bucket\n",
            "Uploaded stock_market_151.json to S3 bucket\n",
            "Uploaded stock_market_152.json to S3 bucket\n",
            "Uploaded stock_market_153.json to S3 bucket\n",
            "Uploaded stock_market_154.json to S3 bucket\n",
            "Uploaded stock_market_155.json to S3 bucket\n",
            "Uploaded stock_market_156.json to S3 bucket\n",
            "Uploaded stock_market_157.json to S3 bucket\n",
            "Uploaded stock_market_158.json to S3 bucket\n",
            "Uploaded stock_market_159.json to S3 bucket\n",
            "Uploaded stock_market_160.json to S3 bucket\n",
            "Uploaded stock_market_161.json to S3 bucket\n",
            "Uploaded stock_market_162.json to S3 bucket\n"
          ]
        },
        {
          "output_type": "error",
          "ename": "KeyboardInterrupt",
          "evalue": "",
          "traceback": [
            "\u001b[0;31m---------------------------------------------------------------------------\u001b[0m",
            "\u001b[0;31mKeyboardInterrupt\u001b[0m                         Traceback (most recent call last)",
            "\u001b[0;32m<ipython-input-12-f5c29c5925f5>\u001b[0m in \u001b[0;36m<cell line: 13>\u001b[0;34m()\u001b[0m\n\u001b[1;32m     11\u001b[0m \u001b[0mbucket_name\u001b[0m \u001b[0;34m=\u001b[0m \u001b[0;34m'kafka-vedant-hire'\u001b[0m  \u001b[0;31m# Replace 'your-bucket-name' with your actual bucket name\u001b[0m\u001b[0;34m\u001b[0m\u001b[0;34m\u001b[0m\u001b[0m\n\u001b[1;32m     12\u001b[0m \u001b[0;34m\u001b[0m\u001b[0m\n\u001b[0;32m---> 13\u001b[0;31m \u001b[0;32mfor\u001b[0m \u001b[0mcount\u001b[0m\u001b[0;34m,\u001b[0m \u001b[0mi\u001b[0m \u001b[0;32min\u001b[0m \u001b[0menumerate\u001b[0m\u001b[0;34m(\u001b[0m\u001b[0mconsumer\u001b[0m\u001b[0;34m)\u001b[0m\u001b[0;34m:\u001b[0m\u001b[0;34m\u001b[0m\u001b[0;34m\u001b[0m\u001b[0m\n\u001b[0m\u001b[1;32m     14\u001b[0m     \u001b[0;31m# Construct the S3 object key\u001b[0m\u001b[0;34m\u001b[0m\u001b[0;34m\u001b[0m\u001b[0m\n\u001b[1;32m     15\u001b[0m     \u001b[0ms3_object_key\u001b[0m \u001b[0;34m=\u001b[0m \u001b[0;34m\"stock_market_{}.json\"\u001b[0m\u001b[0;34m.\u001b[0m\u001b[0mformat\u001b[0m\u001b[0;34m(\u001b[0m\u001b[0mcount\u001b[0m\u001b[0;34m)\u001b[0m\u001b[0;34m\u001b[0m\u001b[0;34m\u001b[0m\u001b[0m\n",
            "\u001b[0;32m/usr/local/lib/python3.10/dist-packages/kafka/consumer/group.py\u001b[0m in \u001b[0;36m__next__\u001b[0;34m(self)\u001b[0m\n\u001b[1;32m   1191\u001b[0m             \u001b[0;32mreturn\u001b[0m \u001b[0mself\u001b[0m\u001b[0;34m.\u001b[0m\u001b[0mnext_v1\u001b[0m\u001b[0;34m(\u001b[0m\u001b[0;34m)\u001b[0m\u001b[0;34m\u001b[0m\u001b[0;34m\u001b[0m\u001b[0m\n\u001b[1;32m   1192\u001b[0m         \u001b[0;32melse\u001b[0m\u001b[0;34m:\u001b[0m\u001b[0;34m\u001b[0m\u001b[0;34m\u001b[0m\u001b[0m\n\u001b[0;32m-> 1193\u001b[0;31m             \u001b[0;32mreturn\u001b[0m \u001b[0mself\u001b[0m\u001b[0;34m.\u001b[0m\u001b[0mnext_v2\u001b[0m\u001b[0;34m(\u001b[0m\u001b[0;34m)\u001b[0m\u001b[0;34m\u001b[0m\u001b[0;34m\u001b[0m\u001b[0m\n\u001b[0m\u001b[1;32m   1194\u001b[0m \u001b[0;34m\u001b[0m\u001b[0m\n\u001b[1;32m   1195\u001b[0m     \u001b[0;32mdef\u001b[0m \u001b[0mnext_v2\u001b[0m\u001b[0;34m(\u001b[0m\u001b[0mself\u001b[0m\u001b[0;34m)\u001b[0m\u001b[0;34m:\u001b[0m\u001b[0;34m\u001b[0m\u001b[0;34m\u001b[0m\u001b[0m\n",
            "\u001b[0;32m/usr/local/lib/python3.10/dist-packages/kafka/consumer/group.py\u001b[0m in \u001b[0;36mnext_v2\u001b[0;34m(self)\u001b[0m\n\u001b[1;32m   1199\u001b[0m                 \u001b[0mself\u001b[0m\u001b[0;34m.\u001b[0m\u001b[0m_iterator\u001b[0m \u001b[0;34m=\u001b[0m \u001b[0mself\u001b[0m\u001b[0;34m.\u001b[0m\u001b[0m_message_generator_v2\u001b[0m\u001b[0;34m(\u001b[0m\u001b[0;34m)\u001b[0m\u001b[0;34m\u001b[0m\u001b[0;34m\u001b[0m\u001b[0m\n\u001b[1;32m   1200\u001b[0m             \u001b[0;32mtry\u001b[0m\u001b[0;34m:\u001b[0m\u001b[0;34m\u001b[0m\u001b[0;34m\u001b[0m\u001b[0m\n\u001b[0;32m-> 1201\u001b[0;31m                 \u001b[0;32mreturn\u001b[0m \u001b[0mnext\u001b[0m\u001b[0;34m(\u001b[0m\u001b[0mself\u001b[0m\u001b[0;34m.\u001b[0m\u001b[0m_iterator\u001b[0m\u001b[0;34m)\u001b[0m\u001b[0;34m\u001b[0m\u001b[0;34m\u001b[0m\u001b[0m\n\u001b[0m\u001b[1;32m   1202\u001b[0m             \u001b[0;32mexcept\u001b[0m \u001b[0mStopIteration\u001b[0m\u001b[0;34m:\u001b[0m\u001b[0;34m\u001b[0m\u001b[0;34m\u001b[0m\u001b[0m\n\u001b[1;32m   1203\u001b[0m                 \u001b[0mself\u001b[0m\u001b[0;34m.\u001b[0m\u001b[0m_iterator\u001b[0m \u001b[0;34m=\u001b[0m \u001b[0;32mNone\u001b[0m\u001b[0;34m\u001b[0m\u001b[0;34m\u001b[0m\u001b[0m\n",
            "\u001b[0;32m/usr/local/lib/python3.10/dist-packages/kafka/consumer/group.py\u001b[0m in \u001b[0;36m_message_generator_v2\u001b[0;34m(self)\u001b[0m\n\u001b[1;32m   1114\u001b[0m     \u001b[0;32mdef\u001b[0m \u001b[0m_message_generator_v2\u001b[0m\u001b[0;34m(\u001b[0m\u001b[0mself\u001b[0m\u001b[0;34m)\u001b[0m\u001b[0;34m:\u001b[0m\u001b[0;34m\u001b[0m\u001b[0;34m\u001b[0m\u001b[0m\n\u001b[1;32m   1115\u001b[0m         \u001b[0mtimeout_ms\u001b[0m \u001b[0;34m=\u001b[0m \u001b[0;36m1000\u001b[0m \u001b[0;34m*\u001b[0m \u001b[0;34m(\u001b[0m\u001b[0mself\u001b[0m\u001b[0;34m.\u001b[0m\u001b[0m_consumer_timeout\u001b[0m \u001b[0;34m-\u001b[0m \u001b[0mtime\u001b[0m\u001b[0;34m.\u001b[0m\u001b[0mtime\u001b[0m\u001b[0;34m(\u001b[0m\u001b[0;34m)\u001b[0m\u001b[0;34m)\u001b[0m\u001b[0;34m\u001b[0m\u001b[0;34m\u001b[0m\u001b[0m\n\u001b[0;32m-> 1116\u001b[0;31m         \u001b[0mrecord_map\u001b[0m \u001b[0;34m=\u001b[0m \u001b[0mself\u001b[0m\u001b[0;34m.\u001b[0m\u001b[0mpoll\u001b[0m\u001b[0;34m(\u001b[0m\u001b[0mtimeout_ms\u001b[0m\u001b[0;34m=\u001b[0m\u001b[0mtimeout_ms\u001b[0m\u001b[0;34m,\u001b[0m \u001b[0mupdate_offsets\u001b[0m\u001b[0;34m=\u001b[0m\u001b[0;32mFalse\u001b[0m\u001b[0;34m)\u001b[0m\u001b[0;34m\u001b[0m\u001b[0;34m\u001b[0m\u001b[0m\n\u001b[0m\u001b[1;32m   1117\u001b[0m         \u001b[0;32mfor\u001b[0m \u001b[0mtp\u001b[0m\u001b[0;34m,\u001b[0m \u001b[0mrecords\u001b[0m \u001b[0;32min\u001b[0m \u001b[0msix\u001b[0m\u001b[0;34m.\u001b[0m\u001b[0miteritems\u001b[0m\u001b[0;34m(\u001b[0m\u001b[0mrecord_map\u001b[0m\u001b[0;34m)\u001b[0m\u001b[0;34m:\u001b[0m\u001b[0;34m\u001b[0m\u001b[0;34m\u001b[0m\u001b[0m\n\u001b[1;32m   1118\u001b[0m             \u001b[0;31m# Generators are stateful, and it is possible that the tp / records\u001b[0m\u001b[0;34m\u001b[0m\u001b[0;34m\u001b[0m\u001b[0m\n",
            "\u001b[0;32m/usr/local/lib/python3.10/dist-packages/kafka/consumer/group.py\u001b[0m in \u001b[0;36mpoll\u001b[0;34m(self, timeout_ms, max_records, update_offsets)\u001b[0m\n\u001b[1;32m    653\u001b[0m         \u001b[0mremaining\u001b[0m \u001b[0;34m=\u001b[0m \u001b[0mtimeout_ms\u001b[0m\u001b[0;34m\u001b[0m\u001b[0;34m\u001b[0m\u001b[0m\n\u001b[1;32m    654\u001b[0m         \u001b[0;32mwhile\u001b[0m \u001b[0;32mTrue\u001b[0m\u001b[0;34m:\u001b[0m\u001b[0;34m\u001b[0m\u001b[0;34m\u001b[0m\u001b[0m\n\u001b[0;32m--> 655\u001b[0;31m             \u001b[0mrecords\u001b[0m \u001b[0;34m=\u001b[0m \u001b[0mself\u001b[0m\u001b[0;34m.\u001b[0m\u001b[0m_poll_once\u001b[0m\u001b[0;34m(\u001b[0m\u001b[0mremaining\u001b[0m\u001b[0;34m,\u001b[0m \u001b[0mmax_records\u001b[0m\u001b[0;34m,\u001b[0m \u001b[0mupdate_offsets\u001b[0m\u001b[0;34m=\u001b[0m\u001b[0mupdate_offsets\u001b[0m\u001b[0;34m)\u001b[0m\u001b[0;34m\u001b[0m\u001b[0;34m\u001b[0m\u001b[0m\n\u001b[0m\u001b[1;32m    656\u001b[0m             \u001b[0;32mif\u001b[0m \u001b[0mrecords\u001b[0m\u001b[0;34m:\u001b[0m\u001b[0;34m\u001b[0m\u001b[0;34m\u001b[0m\u001b[0m\n\u001b[1;32m    657\u001b[0m                 \u001b[0;32mreturn\u001b[0m \u001b[0mrecords\u001b[0m\u001b[0;34m\u001b[0m\u001b[0;34m\u001b[0m\u001b[0m\n",
            "\u001b[0;32m/usr/local/lib/python3.10/dist-packages/kafka/consumer/group.py\u001b[0m in \u001b[0;36m_poll_once\u001b[0;34m(self, timeout_ms, max_records, update_offsets)\u001b[0m\n\u001b[1;32m    700\u001b[0m \u001b[0;34m\u001b[0m\u001b[0m\n\u001b[1;32m    701\u001b[0m         \u001b[0mtimeout_ms\u001b[0m \u001b[0;34m=\u001b[0m \u001b[0mmin\u001b[0m\u001b[0;34m(\u001b[0m\u001b[0mtimeout_ms\u001b[0m\u001b[0;34m,\u001b[0m \u001b[0mself\u001b[0m\u001b[0;34m.\u001b[0m\u001b[0m_coordinator\u001b[0m\u001b[0;34m.\u001b[0m\u001b[0mtime_to_next_poll\u001b[0m\u001b[0;34m(\u001b[0m\u001b[0;34m)\u001b[0m \u001b[0;34m*\u001b[0m \u001b[0;36m1000\u001b[0m\u001b[0;34m)\u001b[0m\u001b[0;34m\u001b[0m\u001b[0;34m\u001b[0m\u001b[0m\n\u001b[0;32m--> 702\u001b[0;31m         \u001b[0mself\u001b[0m\u001b[0;34m.\u001b[0m\u001b[0m_client\u001b[0m\u001b[0;34m.\u001b[0m\u001b[0mpoll\u001b[0m\u001b[0;34m(\u001b[0m\u001b[0mtimeout_ms\u001b[0m\u001b[0;34m=\u001b[0m\u001b[0mtimeout_ms\u001b[0m\u001b[0;34m)\u001b[0m\u001b[0;34m\u001b[0m\u001b[0;34m\u001b[0m\u001b[0m\n\u001b[0m\u001b[1;32m    703\u001b[0m         \u001b[0;31m# after the long poll, we should check whether the group needs to rebalance\u001b[0m\u001b[0;34m\u001b[0m\u001b[0;34m\u001b[0m\u001b[0m\n\u001b[1;32m    704\u001b[0m         \u001b[0;31m# prior to returning data so that the group can stabilize faster\u001b[0m\u001b[0;34m\u001b[0m\u001b[0;34m\u001b[0m\u001b[0m\n",
            "\u001b[0;32m/usr/local/lib/python3.10/dist-packages/kafka/client_async.py\u001b[0m in \u001b[0;36mpoll\u001b[0;34m(self, timeout_ms, future)\u001b[0m\n\u001b[1;32m    600\u001b[0m                     \u001b[0mtimeout\u001b[0m \u001b[0;34m=\u001b[0m \u001b[0mmax\u001b[0m\u001b[0;34m(\u001b[0m\u001b[0;36m0\u001b[0m\u001b[0;34m,\u001b[0m \u001b[0mtimeout\u001b[0m\u001b[0;34m)\u001b[0m  \u001b[0;31m# avoid negative timeouts\u001b[0m\u001b[0;34m\u001b[0m\u001b[0;34m\u001b[0m\u001b[0m\n\u001b[1;32m    601\u001b[0m \u001b[0;34m\u001b[0m\u001b[0m\n\u001b[0;32m--> 602\u001b[0;31m                 \u001b[0mself\u001b[0m\u001b[0;34m.\u001b[0m\u001b[0m_poll\u001b[0m\u001b[0;34m(\u001b[0m\u001b[0mtimeout\u001b[0m \u001b[0;34m/\u001b[0m \u001b[0;36m1000\u001b[0m\u001b[0;34m)\u001b[0m\u001b[0;34m\u001b[0m\u001b[0;34m\u001b[0m\u001b[0m\n\u001b[0m\u001b[1;32m    603\u001b[0m \u001b[0;34m\u001b[0m\u001b[0m\n\u001b[1;32m    604\u001b[0m             \u001b[0;31m# called without the lock to avoid deadlock potential\u001b[0m\u001b[0;34m\u001b[0m\u001b[0;34m\u001b[0m\u001b[0m\n",
            "\u001b[0;32m/usr/local/lib/python3.10/dist-packages/kafka/client_async.py\u001b[0m in \u001b[0;36m_poll\u001b[0;34m(self, timeout)\u001b[0m\n\u001b[1;32m    632\u001b[0m \u001b[0;34m\u001b[0m\u001b[0m\n\u001b[1;32m    633\u001b[0m         \u001b[0mstart_select\u001b[0m \u001b[0;34m=\u001b[0m \u001b[0mtime\u001b[0m\u001b[0;34m.\u001b[0m\u001b[0mtime\u001b[0m\u001b[0;34m(\u001b[0m\u001b[0;34m)\u001b[0m\u001b[0;34m\u001b[0m\u001b[0;34m\u001b[0m\u001b[0m\n\u001b[0;32m--> 634\u001b[0;31m         \u001b[0mready\u001b[0m \u001b[0;34m=\u001b[0m \u001b[0mself\u001b[0m\u001b[0;34m.\u001b[0m\u001b[0m_selector\u001b[0m\u001b[0;34m.\u001b[0m\u001b[0mselect\u001b[0m\u001b[0;34m(\u001b[0m\u001b[0mtimeout\u001b[0m\u001b[0;34m)\u001b[0m\u001b[0;34m\u001b[0m\u001b[0;34m\u001b[0m\u001b[0m\n\u001b[0m\u001b[1;32m    635\u001b[0m         \u001b[0mend_select\u001b[0m \u001b[0;34m=\u001b[0m \u001b[0mtime\u001b[0m\u001b[0;34m.\u001b[0m\u001b[0mtime\u001b[0m\u001b[0;34m(\u001b[0m\u001b[0;34m)\u001b[0m\u001b[0;34m\u001b[0m\u001b[0;34m\u001b[0m\u001b[0m\n\u001b[1;32m    636\u001b[0m         \u001b[0;32mif\u001b[0m \u001b[0mself\u001b[0m\u001b[0;34m.\u001b[0m\u001b[0m_sensors\u001b[0m\u001b[0;34m:\u001b[0m\u001b[0;34m\u001b[0m\u001b[0;34m\u001b[0m\u001b[0m\n",
            "\u001b[0;32m/usr/lib/python3.10/selectors.py\u001b[0m in \u001b[0;36mselect\u001b[0;34m(self, timeout)\u001b[0m\n\u001b[1;32m    467\u001b[0m             \u001b[0mready\u001b[0m \u001b[0;34m=\u001b[0m \u001b[0;34m[\u001b[0m\u001b[0;34m]\u001b[0m\u001b[0;34m\u001b[0m\u001b[0;34m\u001b[0m\u001b[0m\n\u001b[1;32m    468\u001b[0m             \u001b[0;32mtry\u001b[0m\u001b[0;34m:\u001b[0m\u001b[0;34m\u001b[0m\u001b[0;34m\u001b[0m\u001b[0m\n\u001b[0;32m--> 469\u001b[0;31m                 \u001b[0mfd_event_list\u001b[0m \u001b[0;34m=\u001b[0m \u001b[0mself\u001b[0m\u001b[0;34m.\u001b[0m\u001b[0m_selector\u001b[0m\u001b[0;34m.\u001b[0m\u001b[0mpoll\u001b[0m\u001b[0;34m(\u001b[0m\u001b[0mtimeout\u001b[0m\u001b[0;34m,\u001b[0m \u001b[0mmax_ev\u001b[0m\u001b[0;34m)\u001b[0m\u001b[0;34m\u001b[0m\u001b[0;34m\u001b[0m\u001b[0m\n\u001b[0m\u001b[1;32m    470\u001b[0m             \u001b[0;32mexcept\u001b[0m \u001b[0mInterruptedError\u001b[0m\u001b[0;34m:\u001b[0m\u001b[0;34m\u001b[0m\u001b[0;34m\u001b[0m\u001b[0m\n\u001b[1;32m    471\u001b[0m                 \u001b[0;32mreturn\u001b[0m \u001b[0mready\u001b[0m\u001b[0;34m\u001b[0m\u001b[0;34m\u001b[0m\u001b[0m\n",
            "\u001b[0;31mKeyboardInterrupt\u001b[0m: "
          ]
        }
      ]
    },
    {
      "cell_type": "code",
      "source": [],
      "metadata": {
        "id": "pBha-yprf5uN"
      },
      "execution_count": null,
      "outputs": []
    }
  ]
}